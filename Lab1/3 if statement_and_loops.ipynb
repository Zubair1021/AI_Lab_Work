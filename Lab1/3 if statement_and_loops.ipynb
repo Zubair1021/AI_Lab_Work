{
 "cells": [
  {
   "cell_type": "markdown",
   "metadata": {
    "id": "krVX83IjRtMv"
   },
   "source": [
    "If statement is used to take decision based on some condition.\n",
    "\n",
    "\n",
    "```\n",
    "if cond :\n",
    "  statments\n",
    "```\n",
    "\n"
   ]
  },
  {
   "cell_type": "code",
   "execution_count": 1,
   "metadata": {
    "id": "Q3crkX77OWen"
   },
   "outputs": [
    {
     "name": "stdout",
     "output_type": "stream",
     "text": [
      "a is greater than b\n"
     ]
    }
   ],
   "source": [
    "a = 100\n",
    "b = 30\n",
    "\n",
    "if b > a:\n",
    "    print(\"b is greater than a\")\n",
    "    \n",
    "elif a == b:\n",
    "    print(\"a and b are equal\")\n",
    "    \n",
    "else:\n",
    "    print(\"a is greater than b\")"
   ]
  },
  {
   "cell_type": "markdown",
   "metadata": {
    "id": "hwt1X-XVR36h"
   },
   "source": [
    "Loops\n",
    "\n",
    "**While loop** "
   ]
  },
  {
   "cell_type": "code",
   "execution_count": 4,
   "metadata": {
    "id": "LssNxdaSRy5G"
   },
   "outputs": [
    {
     "name": "stdout",
     "output_type": "stream",
     "text": [
      "1\n",
      "2\n",
      "3\n",
      "4\n",
      "5\n",
      "6\n",
      "7\n",
      "8\n",
      "9\n",
      "10\n"
     ]
    }
   ],
   "source": [
    "i = 1\n",
    "\n",
    "while i < 11:\n",
    "    print(i)\n",
    "    i += 1"
   ]
  },
  {
   "cell_type": "markdown",
   "metadata": {
    "id": "hKt2gv8MShqS"
   },
   "source": [
    "**For loop**"
   ]
  },
  {
   "cell_type": "code",
   "execution_count": 7,
   "metadata": {
    "colab": {
     "base_uri": "https://localhost:8080/"
    },
    "executionInfo": {
     "elapsed": 1058,
     "status": "ok",
     "timestamp": 1611291483384,
     "user": {
      "displayName": "ARBISH AKRAM",
      "photoUrl": "https://lh3.googleusercontent.com/a-/AOh14GibOMqRHuDtNm_9Xp51XmNXlffO1lnbt8KERz568Q=s64",
      "userId": "07144718352820072135"
     },
     "user_tz": -300
    },
    "id": "QQhpnKAXSqbg",
    "outputId": "0d867749-ad15-4b8d-d3bb-0c81d9658681"
   },
   "outputs": [
    {
     "name": "stdout",
     "output_type": "stream",
     "text": [
      "Artificial Intelligence\n",
      "Software Engineering\n",
      "Computer Networks\n"
     ]
    }
   ],
   "source": [
    "courses = ['Artificial Intelligence', 'Software Engineering', 'Computer Networks']\n",
    "\n",
    "for course in courses:\n",
    "    print(course)"
   ]
  },
  {
   "cell_type": "code",
   "execution_count": 6,
   "metadata": {},
   "outputs": [
    {
     "name": "stdout",
     "output_type": "stream",
     "text": [
      "0\n",
      "1\n",
      "2\n",
      "3\n",
      "4\n",
      "5\n",
      "6\n"
     ]
    }
   ],
   "source": [
    "a=[1,4,2,5,7]\n",
    "for i in range(0,7):\n",
    "    print(i)"
   ]
  },
  {
   "cell_type": "code",
   "execution_count": 8,
   "metadata": {
    "colab": {
     "base_uri": "https://localhost:8080/"
    },
    "executionInfo": {
     "elapsed": 970,
     "status": "ok",
     "timestamp": 1610718489145,
     "user": {
      "displayName": "ARBISH AKRAM",
      "photoUrl": "https://lh3.googleusercontent.com/a-/AOh14Gjm4EMSOuD9HMbrPi0XEocpfQcoaF-S0UMd7UzM=s64",
      "userId": "07144718352820072135"
     },
     "user_tz": -300
    },
    "id": "ogHd27dWSu1R",
    "outputId": "403dc858-7494-493d-d0b2-3633bf7a169e"
   },
   "outputs": [
    {
     "name": "stdout",
     "output_type": "stream",
     "text": [
      "2\n",
      "3\n",
      "4\n",
      "5\n"
     ]
    }
   ],
   "source": [
    "for x in range(2, 6):\n",
    "    print(x)"
   ]
  },
  {
   "cell_type": "code",
   "execution_count": 9,
   "metadata": {
    "colab": {
     "base_uri": "https://localhost:8080/"
    },
    "executionInfo": {
     "elapsed": 948,
     "status": "ok",
     "timestamp": 1611291531042,
     "user": {
      "displayName": "ARBISH AKRAM",
      "photoUrl": "https://lh3.googleusercontent.com/a-/AOh14GibOMqRHuDtNm_9Xp51XmNXlffO1lnbt8KERz568Q=s64",
      "userId": "07144718352820072135"
     },
     "user_tz": -300
    },
    "id": "Uo5t68S9Swkm",
    "outputId": "13f995bf-a1fa-418b-b9a2-a284107d8e53"
   },
   "outputs": [
    {
     "name": "stdout",
     "output_type": "stream",
     "text": [
      "5\n",
      "4\n",
      "3\n",
      "2\n"
     ]
    }
   ],
   "source": [
    "for x in reversed(range(2, 6)):\n",
    "    print(x)"
   ]
  },
  {
   "cell_type": "code",
   "execution_count": 11,
   "metadata": {
    "colab": {
     "base_uri": "https://localhost:8080/"
    },
    "executionInfo": {
     "elapsed": 939,
     "status": "ok",
     "timestamp": 1611291614632,
     "user": {
      "displayName": "ARBISH AKRAM",
      "photoUrl": "https://lh3.googleusercontent.com/a-/AOh14GibOMqRHuDtNm_9Xp51XmNXlffO1lnbt8KERz568Q=s64",
      "userId": "07144718352820072135"
     },
     "user_tz": -300
    },
    "id": "EIxddpCoSzBp",
    "outputId": "97d18abb-82fa-4f57-b94b-6e8bcd8f592d"
   },
   "outputs": [],
   "source": [
    "for x in range(8, 2,-1):\n",
    "    print(x)"
   ]
  },
  {
   "cell_type": "code",
   "execution_count": null,
   "metadata": {},
   "outputs": [],
   "source": []
  }
 ],
 "metadata": {
  "colab": {
   "authorship_tag": "ABX9TyPoxgxP9WGn9RR/vzP+T+ZI",
   "collapsed_sections": [],
   "name": "3 if statement_and_loops.ipynb",
   "provenance": []
  },
  "kernelspec": {
   "display_name": "Python 3 (ipykernel)",
   "language": "python",
   "name": "python3"
  },
  "language_info": {
   "codemirror_mode": {
    "name": "ipython",
    "version": 3
   },
   "file_extension": ".py",
   "mimetype": "text/x-python",
   "name": "python",
   "nbconvert_exporter": "python",
   "pygments_lexer": "ipython3",
   "version": "3.9.7"
  }
 },
 "nbformat": 4,
 "nbformat_minor": 1
}
