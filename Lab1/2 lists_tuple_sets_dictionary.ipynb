{
 "cells": [
  {
   "cell_type": "markdown",
   "metadata": {
    "id": "fyxQi8HQ8Hm7"
   },
   "source": [
    "#### i) Data container: List\n",
    "The list is the primary data structure used in Python. It holds a sequence of data elements. \n",
    "\n",
    "\n",
    "```\n",
    "list = []\n",
    "list.append(), list.remove(), list.count(), list.reverse(), list.sort()\n",
    "```\n",
    "\n"
   ]
  },
  {
   "cell_type": "code",
   "execution_count": 1,
   "metadata": {
    "colab": {
     "base_uri": "https://localhost:8080/"
    },
    "executionInfo": {
     "elapsed": 984,
     "status": "ok",
     "timestamp": 1611289022171,
     "user": {
      "displayName": "ARBISH AKRAM",
      "photoUrl": "https://lh3.googleusercontent.com/a-/AOh14GibOMqRHuDtNm_9Xp51XmNXlffO1lnbt8KERz568Q=s64",
      "userId": "07144718352820072135"
     },
     "user_tz": -300
    },
    "id": "b4WiKWXy74M_",
    "outputId": "a6e12549-567f-44be-a2e0-d807a1f5c144"
   },
   "outputs": [
    {
     "name": "stdout",
     "output_type": "stream",
     "text": [
      "[1, 3, 4, 89, 23, 43, 90]\n",
      "5\n"
     ]
    }
   ],
   "source": [
    "same_type_list = [1, 3, 4, 89, 23, 43, 90] # lists can be heterogeneous\n",
    "diff_type_list = [1, 3, \"hello\", 4.9, \"c\"] \n",
    "print(same_type_list)\n",
    "print(len(diff_type_list))"
   ]
  },
  {
   "cell_type": "code",
   "execution_count": 2,
   "metadata": {
    "colab": {
     "base_uri": "https://localhost:8080/"
    },
    "executionInfo": {
     "elapsed": 951,
     "status": "ok",
     "timestamp": 1611289095187,
     "user": {
      "displayName": "ARBISH AKRAM",
      "photoUrl": "https://lh3.googleusercontent.com/a-/AOh14GibOMqRHuDtNm_9Xp51XmNXlffO1lnbt8KERz568Q=s64",
      "userId": "07144718352820072135"
     },
     "user_tz": -300
    },
    "id": "EhhFTpxz8MNu",
    "outputId": "c7a421e2-4a1b-4a20-fd77-fa49ce751e80"
   },
   "outputs": [
    {
     "name": "stdout",
     "output_type": "stream",
     "text": [
      "[\"I'm new\", 3, 4, 89, 23, 43, 90]\n"
     ]
    }
   ],
   "source": [
    "same_type_list[0] = \"I'm new\"\n",
    "print(same_type_list)"
   ]
  },
  {
   "cell_type": "code",
   "execution_count": 3,
   "metadata": {
    "colab": {
     "base_uri": "https://localhost:8080/",
     "height": 167
    },
    "executionInfo": {
     "elapsed": 1086,
     "status": "error",
     "timestamp": 1611289121603,
     "user": {
      "displayName": "ARBISH AKRAM",
      "photoUrl": "https://lh3.googleusercontent.com/a-/AOh14GibOMqRHuDtNm_9Xp51XmNXlffO1lnbt8KERz568Q=s64",
      "userId": "07144718352820072135"
     },
     "user_tz": -300
    },
    "id": "ZxIXjGNo8Mh4",
    "outputId": "7db9cebd-970d-406a-ba98-a31689537c78"
   },
   "outputs": [
    {
     "ename": "IndexError",
     "evalue": "list index out of range",
     "output_type": "error",
     "traceback": [
      "\u001b[1;31m---------------------------------------------------------------------------\u001b[0m",
      "\u001b[1;31mIndexError\u001b[0m                                Traceback (most recent call last)",
      "\u001b[1;32m~\\AppData\\Local\\Temp/ipykernel_7372/1131156241.py\u001b[0m in \u001b[0;36m<module>\u001b[1;34m\u001b[0m\n\u001b[1;32m----> 1\u001b[1;33m \u001b[0mprint\u001b[0m\u001b[1;33m(\u001b[0m\u001b[0msame_type_list\u001b[0m\u001b[1;33m[\u001b[0m\u001b[1;36m8\u001b[0m\u001b[1;33m]\u001b[0m\u001b[1;33m)\u001b[0m\u001b[1;33m\u001b[0m\u001b[1;33m\u001b[0m\u001b[0m\n\u001b[0m",
      "\u001b[1;31mIndexError\u001b[0m: list index out of range"
     ]
    }
   ],
   "source": [
    "print(same_type_list[8])"
   ]
  },
  {
   "cell_type": "code",
   "execution_count": 9,
   "metadata": {
    "colab": {
     "base_uri": "https://localhost:8080/"
    },
    "executionInfo": {
     "elapsed": 935,
     "status": "ok",
     "timestamp": 1611289195072,
     "user": {
      "displayName": "ARBISH AKRAM",
      "photoUrl": "https://lh3.googleusercontent.com/a-/AOh14GibOMqRHuDtNm_9Xp51XmNXlffO1lnbt8KERz568Q=s64",
      "userId": "07144718352820072135"
     },
     "user_tz": -300
    },
    "id": "qc2jEQ9H8lcj",
    "outputId": "d5264289-b45c-4c69-be16-0f369ff99cbd"
   },
   "outputs": [
    {
     "name": "stdout",
     "output_type": "stream",
     "text": [
      "90\n",
      "1\n",
      "[90, 89, 43, 23, 4, 3, 1]\n"
     ]
    }
   ],
   "source": [
    "same_type_list = [1, 3, 4, 89, 23, 43, 90]\n",
    "print(max(same_type_list))\n",
    "print(min(same_type_list))\n",
    "print(sorted((same_type_list), reverse=True))"
   ]
  },
  {
   "cell_type": "code",
   "execution_count": 17,
   "metadata": {
    "colab": {
     "base_uri": "https://localhost:8080/"
    },
    "executionInfo": {
     "elapsed": 883,
     "status": "ok",
     "timestamp": 1611289338520,
     "user": {
      "displayName": "ARBISH AKRAM",
      "photoUrl": "https://lh3.googleusercontent.com/a-/AOh14GibOMqRHuDtNm_9Xp51XmNXlffO1lnbt8KERz568Q=s64",
      "userId": "07144718352820072135"
     },
     "user_tz": -300
    },
    "id": "sRgxdNGh8mzq",
    "outputId": "46404481-ab69-4b92-d636-8672f2d72580"
   },
   "outputs": [
    {
     "name": "stdout",
     "output_type": "stream",
     "text": [
      "[]\n"
     ]
    }
   ],
   "source": [
    "courses_list = []  # add items in the list\n",
    "print(courses_list)"
   ]
  },
  {
   "cell_type": "code",
   "execution_count": 18,
   "metadata": {
    "colab": {
     "base_uri": "https://localhost:8080/"
    },
    "executionInfo": {
     "elapsed": 926,
     "status": "ok",
     "timestamp": 1611289410387,
     "user": {
      "displayName": "ARBISH AKRAM",
      "photoUrl": "https://lh3.googleusercontent.com/a-/AOh14GibOMqRHuDtNm_9Xp51XmNXlffO1lnbt8KERz568Q=s64",
      "userId": "07144718352820072135"
     },
     "user_tz": -300
    },
    "id": "vO-gpRwEU_6j",
    "outputId": "c497596f-b38b-419a-d081-d09f5d2e0fe7"
   },
   "outputs": [
    {
     "name": "stdout",
     "output_type": "stream",
     "text": [
      "['Artificial Intelligence', 'Software Engineering', 'Computer Networks'] Total courses: 3\n"
     ]
    }
   ],
   "source": [
    "courses_list.append(\"Artificial Intelligence\")\n",
    "courses_list.append(\"Software Engineering\")\n",
    "courses_list.append(\"Computer Networks\")\n",
    "print(courses_list, \"Total courses: \"+str(len(courses_list)))"
   ]
  },
  {
   "cell_type": "code",
   "execution_count": 19,
   "metadata": {
    "colab": {
     "base_uri": "https://localhost:8080/"
    },
    "executionInfo": {
     "elapsed": 900,
     "status": "ok",
     "timestamp": 1611289440806,
     "user": {
      "displayName": "ARBISH AKRAM",
      "photoUrl": "https://lh3.googleusercontent.com/a-/AOh14GibOMqRHuDtNm_9Xp51XmNXlffO1lnbt8KERz568Q=s64",
      "userId": "07144718352820072135"
     },
     "user_tz": -300
    },
    "id": "6leedcC88oQr",
    "outputId": "055bcff6-7937-4162-b4b0-2ffcccf759a5"
   },
   "outputs": [
    {
     "name": "stdout",
     "output_type": "stream",
     "text": [
      "['Artificial Intelligence', 'Software Engineering'] Total courses: 2\n"
     ]
    }
   ],
   "source": [
    "courses_list.remove(\"Computer Networks\") # remove items from the list\n",
    "print(courses_list, \"Total courses: \"+str(len(courses_list)))"
   ]
  },
  {
   "cell_type": "code",
   "execution_count": 20,
   "metadata": {
    "colab": {
     "base_uri": "https://localhost:8080/"
    },
    "executionInfo": {
     "elapsed": 997,
     "status": "ok",
     "timestamp": 1611289482361,
     "user": {
      "displayName": "ARBISH AKRAM",
      "photoUrl": "https://lh3.googleusercontent.com/a-/AOh14GibOMqRHuDtNm_9Xp51XmNXlffO1lnbt8KERz568Q=s64",
      "userId": "07144718352820072135"
     },
     "user_tz": -300
    },
    "id": "rt5TfaC28p1h",
    "outputId": "3c5d6028-4a03-42dd-ef9f-6b041d572191"
   },
   "outputs": [
    {
     "name": "stdout",
     "output_type": "stream",
     "text": [
      "[1, 3, 4, 89, 23, 43, 90, 1, 3, 'hello', 4.9, 'c', 'Artificial Intelligence', 'Software Engineering']\n"
     ]
    }
   ],
   "source": [
    "comb_list = same_type_list + diff_type_list + courses_list # combine three lists\n",
    "print(comb_list)"
   ]
  },
  {
   "cell_type": "code",
   "execution_count": 21,
   "metadata": {
    "id": "0LmDhAyt8qTB"
   },
   "outputs": [],
   "source": [
    "del comb_list"
   ]
  },
  {
   "cell_type": "code",
   "execution_count": 22,
   "metadata": {},
   "outputs": [
    {
     "ename": "NameError",
     "evalue": "name 'comb_list' is not defined",
     "output_type": "error",
     "traceback": [
      "\u001b[1;31m---------------------------------------------------------------------------\u001b[0m",
      "\u001b[1;31mNameError\u001b[0m                                 Traceback (most recent call last)",
      "\u001b[1;32m~\\AppData\\Local\\Temp/ipykernel_7372/4211839092.py\u001b[0m in \u001b[0;36m<module>\u001b[1;34m\u001b[0m\n\u001b[1;32m----> 1\u001b[1;33m \u001b[0mprint\u001b[0m\u001b[1;33m(\u001b[0m\u001b[0mcomb_list\u001b[0m\u001b[1;33m)\u001b[0m\u001b[1;33m\u001b[0m\u001b[1;33m\u001b[0m\u001b[0m\n\u001b[0m",
      "\u001b[1;31mNameError\u001b[0m: name 'comb_list' is not defined"
     ]
    }
   ],
   "source": [
    "print(comb_list)"
   ]
  },
  {
   "cell_type": "markdown",
   "metadata": {
    "id": "3C1pGOa48tIl"
   },
   "source": [
    "**Slicing lists**"
   ]
  },
  {
   "cell_type": "code",
   "execution_count": 23,
   "metadata": {
    "colab": {
     "base_uri": "https://localhost:8080/"
    },
    "executionInfo": {
     "elapsed": 905,
     "status": "ok",
     "timestamp": 1611289634924,
     "user": {
      "displayName": "ARBISH AKRAM",
      "photoUrl": "https://lh3.googleusercontent.com/a-/AOh14GibOMqRHuDtNm_9Xp51XmNXlffO1lnbt8KERz568Q=s64",
      "userId": "07144718352820072135"
     },
     "user_tz": -300
    },
    "id": "YQJekeb58ri_",
    "outputId": "17c25e26-cfcd-45ad-a0a3-6773e7e96e50"
   },
   "outputs": [
    {
     "name": "stdout",
     "output_type": "stream",
     "text": [
      "[6, 7, 8, 9, 10]\n"
     ]
    }
   ],
   "source": [
    "some_list = [1, 2, 3, 4, 5, 6, 7, 8, 9, 10]\n",
    "print(some_list[5:]) # Get a slice from index 5 to last index"
   ]
  },
  {
   "cell_type": "code",
   "execution_count": 24,
   "metadata": {
    "id": "lsWf1Y1sCvcR"
   },
   "outputs": [
    {
     "name": "stdout",
     "output_type": "stream",
     "text": [
      "[1, 2, 3]\n"
     ]
    }
   ],
   "source": [
    "print(some_list[:3]) # Get a slice from start to index 2 "
   ]
  },
  {
   "cell_type": "code",
   "execution_count": 27,
   "metadata": {
    "colab": {
     "base_uri": "https://localhost:8080/"
    },
    "executionInfo": {
     "elapsed": 940,
     "status": "ok",
     "timestamp": 1611289867230,
     "user": {
      "displayName": "ARBISH AKRAM",
      "photoUrl": "https://lh3.googleusercontent.com/a-/AOh14GibOMqRHuDtNm_9Xp51XmNXlffO1lnbt8KERz568Q=s64",
      "userId": "07144718352820072135"
     },
     "user_tz": -300
    },
    "id": "44N_ZITNDAja",
    "outputId": "1c75733a-f46a-4ad4-be20-5ceaae5983fa"
   },
   "outputs": [
    {
     "name": "stdout",
     "output_type": "stream",
     "text": [
      "[4]\n"
     ]
    }
   ],
   "source": [
    "print(some_list[3:10:12]) # Get a slice from index 3 to 9 with step 2"
   ]
  },
  {
   "cell_type": "markdown",
   "metadata": {
    "id": "cTyTPtnv8x1t"
   },
   "source": [
    "**List comprehension**\n",
    "You can construct a list in a single line of code using list comprehension. \n",
    "```\n",
    "[expr for val in collection]\n",
    "[expr for val in collection if cond]\n",
    "```"
   ]
  },
  {
   "cell_type": "code",
   "execution_count": 28,
   "metadata": {
    "colab": {
     "base_uri": "https://localhost:8080/"
    },
    "executionInfo": {
     "elapsed": 944,
     "status": "ok",
     "timestamp": 1611290026206,
     "user": {
      "displayName": "ARBISH AKRAM",
      "photoUrl": "https://lh3.googleusercontent.com/a-/AOh14GibOMqRHuDtNm_9Xp51XmNXlffO1lnbt8KERz568Q=s64",
      "userId": "07144718352820072135"
     },
     "user_tz": -300
    },
    "id": "ojqYV6qD80Oa",
    "outputId": "6c5da22a-cd4c-40c7-d980-c2c053bd6252"
   },
   "outputs": [
    {
     "name": "stdout",
     "output_type": "stream",
     "text": [
      "[100, 1, 4, 9, 16]\n"
     ]
    }
   ],
   "source": [
    "nums = [10, 1, 2, 3, 4]\n",
    "squares = []\n",
    "for x in nums:\n",
    "    squares.append(x ** 2)\n",
    "print(squares)"
   ]
  },
  {
   "cell_type": "code",
   "execution_count": 30,
   "metadata": {
    "colab": {
     "base_uri": "https://localhost:8080/"
    },
    "executionInfo": {
     "elapsed": 920,
     "status": "ok",
     "timestamp": 1611290139031,
     "user": {
      "displayName": "ARBISH AKRAM",
      "photoUrl": "https://lh3.googleusercontent.com/a-/AOh14GibOMqRHuDtNm_9Xp51XmNXlffO1lnbt8KERz568Q=s64",
      "userId": "07144718352820072135"
     },
     "user_tz": -300
    },
    "id": "jOg4z5s7YEr1",
    "outputId": "b3434413-214e-4877-99c4-2547bea03f5c"
   },
   "outputs": [
    {
     "name": "stdout",
     "output_type": "stream",
     "text": [
      "[0, 1, 4, 9, 16]\n"
     ]
    }
   ],
   "source": [
    "## The simple form of above code using list comprehension\n",
    "nums = [0, 1, 2, 3, 4]\n",
    "squares = [x ** 2 for x in nums]\n",
    "print(squares)   # Prints [0, 1, 4, 9, 16]"
   ]
  },
  {
   "cell_type": "code",
   "execution_count": 31,
   "metadata": {
    "colab": {
     "base_uri": "https://localhost:8080/"
    },
    "executionInfo": {
     "elapsed": 693,
     "status": "ok",
     "timestamp": 1611290161991,
     "user": {
      "displayName": "ARBISH AKRAM",
      "photoUrl": "https://lh3.googleusercontent.com/a-/AOh14GibOMqRHuDtNm_9Xp51XmNXlffO1lnbt8KERz568Q=s64",
      "userId": "07144718352820072135"
     },
     "user_tz": -300
    },
    "id": "tr0V5iD4XpIO",
    "outputId": "211f14d2-cf96-4b29-e5dc-7bddcf2bf11a"
   },
   "outputs": [
    {
     "name": "stdout",
     "output_type": "stream",
     "text": [
      "[2, 4]\n"
     ]
    }
   ],
   "source": [
    "## List comprehension can also contain conditions\n",
    "# new_list = [expression for_loop_one_or_more condtions]\n",
    "res = [x for x in nums if x % 2 == 0 and x>0]\n",
    "print(res)"
   ]
  },
  {
   "cell_type": "markdown",
   "metadata": {
    "id": "jInuYL0uCJ5Y"
   },
   "source": [
    "#### ii)  Data container: Tuple\n",
    "A tuple is a collection which is ordered and unchangeable. The items have a defined order, and that order will not change. Once a tuple is created, you cannot change, add and remove its values.\n",
    "\n",
    "```\n",
    "tuple = (1, 2, 3)\n",
    "```"
   ]
  },
  {
   "cell_type": "code",
   "execution_count": 32,
   "metadata": {
    "colab": {
     "base_uri": "https://localhost:8080/"
    },
    "executionInfo": {
     "elapsed": 954,
     "status": "ok",
     "timestamp": 1611290398923,
     "user": {
      "displayName": "ARBISH AKRAM",
      "photoUrl": "https://lh3.googleusercontent.com/a-/AOh14GibOMqRHuDtNm_9Xp51XmNXlffO1lnbt8KERz568Q=s64",
      "userId": "07144718352820072135"
     },
     "user_tz": -300
    },
    "id": "N-Ys8xFFCPKL",
    "outputId": "bd9d0456-b290-4c55-d7f4-1640eabb6874"
   },
   "outputs": [
    {
     "name": "stdout",
     "output_type": "stream",
     "text": [
      "1\n",
      "foo\n"
     ]
    }
   ],
   "source": [
    "same_type_tuple = (1, 10, 7) # tuples can be heterogeneous\n",
    "diff_type_tuple = (1, 2, \"foo\") \n",
    "\n",
    "print(same_type_tuple[0])\n",
    "print(diff_type_tuple[2])"
   ]
  },
  {
   "cell_type": "code",
   "execution_count": 33,
   "metadata": {
    "executionInfo": {
     "elapsed": 1197,
     "status": "ok",
     "timestamp": 1611298923527,
     "user": {
      "displayName": "ARBISH AKRAM",
      "photoUrl": "https://lh3.googleusercontent.com/a-/AOh14GibOMqRHuDtNm_9Xp51XmNXlffO1lnbt8KERz568Q=s64",
      "userId": "07144718352820072135"
     },
     "user_tz": -300
    },
    "id": "xtq6-Yz4DFMX"
   },
   "outputs": [
    {
     "ename": "TypeError",
     "evalue": "'tuple' object does not support item assignment",
     "output_type": "error",
     "traceback": [
      "\u001b[1;31m---------------------------------------------------------------------------\u001b[0m",
      "\u001b[1;31mTypeError\u001b[0m                                 Traceback (most recent call last)",
      "\u001b[1;32m~\\AppData\\Local\\Temp/ipykernel_7372/1683201437.py\u001b[0m in \u001b[0;36m<module>\u001b[1;34m\u001b[0m\n\u001b[1;32m----> 1\u001b[1;33m \u001b[0msame_type_tuple\u001b[0m\u001b[1;33m[\u001b[0m\u001b[1;36m0\u001b[0m\u001b[1;33m]\u001b[0m \u001b[1;33m=\u001b[0m \u001b[1;36m3\u001b[0m\u001b[1;33m\u001b[0m\u001b[1;33m\u001b[0m\u001b[0m\n\u001b[0m",
      "\u001b[1;31mTypeError\u001b[0m: 'tuple' object does not support item assignment"
     ]
    }
   ],
   "source": [
    "same_type_tuple[0] = 3"
   ]
  },
  {
   "cell_type": "markdown",
   "metadata": {
    "id": "Qnze52_XCSUi"
   },
   "source": [
    "#### iii)  Data container: Dictionaries\n",
    "A dictionary consists of a collection of key-value pairs. Dictionary elements are accessed via keys.\n",
    "```\n",
    "dict = {key:value}\n",
    "my_dict = {'x':5, 'y':10}\n",
    "```"
   ]
  },
  {
   "cell_type": "code",
   "execution_count": 43,
   "metadata": {
    "colab": {
     "base_uri": "https://localhost:8080/"
    },
    "executionInfo": {
     "elapsed": 1021,
     "status": "ok",
     "timestamp": 1610714276903,
     "user": {
      "displayName": "ARBISH AKRAM",
      "photoUrl": "https://lh3.googleusercontent.com/a-/AOh14Gjm4EMSOuD9HMbrPi0XEocpfQcoaF-S0UMd7UzM=s64",
      "userId": "07144718352820072135"
     },
     "user_tz": -300
    },
    "id": "Aj_AbycZCVAZ",
    "outputId": "46722c0a-ef39-4e68-8449-185376b32516"
   },
   "outputs": [
    {
     "name": "stdout",
     "output_type": "stream",
     "text": [
      "Ali\n",
      "None\n",
      "Nadia\n",
      "{'student1': 'Ali', 'student2': 'Ahmed', 'student3': 'Nadia'}\n"
     ]
    }
   ],
   "source": [
    "students_dict = {\"student1\": \"Ali\", \n",
    "                 \"student2\": \"Ahmed\", \n",
    "                 \"student3\": \"Nadia\"}\n",
    "\n",
    "print(students_dict[\"student1\"]) # access elements using key values\n",
    "print(students_dict.get(\"student4\"))\n",
    "print(students_dict.get(\"student3\", \"student does not exist\")) \n",
    "print(students_dict)"
   ]
  },
  {
   "cell_type": "code",
   "execution_count": 41,
   "metadata": {},
   "outputs": [],
   "source": [
    "students_dict = {\"0\": \"Ali\", \n",
    "                 1: \"Ahmed\", \n",
    "                 2: \"Nadia\"}"
   ]
  },
  {
   "cell_type": "code",
   "execution_count": 42,
   "metadata": {},
   "outputs": [
    {
     "name": "stdout",
     "output_type": "stream",
     "text": [
      "Ali\n"
     ]
    }
   ],
   "source": [
    "print(students_dict[\"0\"])"
   ]
  },
  {
   "cell_type": "code",
   "execution_count": 44,
   "metadata": {
    "colab": {
     "base_uri": "https://localhost:8080/"
    },
    "executionInfo": {
     "elapsed": 911,
     "status": "ok",
     "timestamp": 1610714280771,
     "user": {
      "displayName": "ARBISH AKRAM",
      "photoUrl": "https://lh3.googleusercontent.com/a-/AOh14Gjm4EMSOuD9HMbrPi0XEocpfQcoaF-S0UMd7UzM=s64",
      "userId": "07144718352820072135"
     },
     "user_tz": -300
    },
    "id": "bdxj8apcCYoY",
    "outputId": "ea416ac2-7ea6-494b-d0a8-523373f676d5"
   },
   "outputs": [
    {
     "name": "stdout",
     "output_type": "stream",
     "text": [
      "{'student1': 'Hassan', 'student2': 'Ahmed', 'student3': 'Nadia'}\n",
      "key and value: student1 Hassan\n",
      "key and value: student2 Ahmed\n",
      "key and value: student3 Nadia\n"
     ]
    }
   ],
   "source": [
    "students_dict[\"student1\"] = \"Hassan\" # assig new element to student\n",
    "print(students_dict)\n",
    "\n",
    "for x, y in students_dict.items(): \n",
    "    print(\"key and value:\",x,y)"
   ]
  },
  {
   "cell_type": "markdown",
   "metadata": {
    "id": "JP9-tlUWCaqH"
   },
   "source": [
    "### iv) Data container: Sets\n",
    "Group of unique elements. A set is a collection which is unordered, unchangeable*, and unindexed. Set items are unchangeable, but you can remove items and add new items."
   ]
  },
  {
   "cell_type": "code",
   "execution_count": 50,
   "metadata": {
    "colab": {
     "base_uri": "https://localhost:8080/"
    },
    "executionInfo": {
     "elapsed": 901,
     "status": "ok",
     "timestamp": 1611290984550,
     "user": {
      "displayName": "ARBISH AKRAM",
      "photoUrl": "https://lh3.googleusercontent.com/a-/AOh14GibOMqRHuDtNm_9Xp51XmNXlffO1lnbt8KERz568Q=s64",
      "userId": "07144718352820072135"
     },
     "user_tz": -300
    },
    "id": "5pSCuxoFCnmA",
    "outputId": "cb0a88cf-57f3-449b-dfa7-ca6ad2b76164"
   },
   "outputs": [
    {
     "name": "stdout",
     "output_type": "stream",
     "text": [
      "{'obj2', 'obj1', 'obj3'}\n"
     ]
    }
   ],
   "source": [
    "my_set = {\"obj1\", \"obj2\", \"obj3\"}\n",
    "print(my_set)"
   ]
  },
  {
   "cell_type": "markdown",
   "metadata": {
    "id": "oGYpLxljW1-G"
   },
   "source": [
    "Add value to a set"
   ]
  },
  {
   "cell_type": "code",
   "execution_count": 51,
   "metadata": {
    "colab": {
     "base_uri": "https://localhost:8080/"
    },
    "executionInfo": {
     "elapsed": 888,
     "status": "ok",
     "timestamp": 1611290987607,
     "user": {
      "displayName": "ARBISH AKRAM",
      "photoUrl": "https://lh3.googleusercontent.com/a-/AOh14GibOMqRHuDtNm_9Xp51XmNXlffO1lnbt8KERz568Q=s64",
      "userId": "07144718352820072135"
     },
     "user_tz": -300
    },
    "id": "eICm8deJWMkU",
    "outputId": "046900c2-9ad5-4cbf-a495-df53bfd75448"
   },
   "outputs": [
    {
     "name": "stdout",
     "output_type": "stream",
     "text": [
      "{'obj2', 'obj4', 'obj1', 'obj3'}\n"
     ]
    }
   ],
   "source": [
    "my_set.add(\"obj4\")\n",
    "print(my_set)"
   ]
  },
  {
   "cell_type": "markdown",
   "metadata": {
    "id": "k-7A18tTW5Fz"
   },
   "source": [
    "Remove value to a set"
   ]
  },
  {
   "cell_type": "code",
   "execution_count": 52,
   "metadata": {
    "colab": {
     "base_uri": "https://localhost:8080/"
    },
    "executionInfo": {
     "elapsed": 916,
     "status": "ok",
     "timestamp": 1611291033630,
     "user": {
      "displayName": "ARBISH AKRAM",
      "photoUrl": "https://lh3.googleusercontent.com/a-/AOh14GibOMqRHuDtNm_9Xp51XmNXlffO1lnbt8KERz568Q=s64",
      "userId": "07144718352820072135"
     },
     "user_tz": -300
    },
    "id": "GUjbV3SJWkcQ",
    "outputId": "f45094b7-bda1-4bce-a595-b5cf2e1841d2"
   },
   "outputs": [
    {
     "name": "stdout",
     "output_type": "stream",
     "text": [
      "{'obj2', 'obj4', 'obj3'}\n"
     ]
    }
   ],
   "source": [
    "my_set.remove(\"obj1\")\n",
    "print(my_set)"
   ]
  },
  {
   "cell_type": "markdown",
   "metadata": {
    "id": "bPbMvUesXNFk"
   },
   "source": [
    "Add dublicate value to a set"
   ]
  },
  {
   "cell_type": "code",
   "execution_count": 53,
   "metadata": {
    "colab": {
     "base_uri": "https://localhost:8080/"
    },
    "executionInfo": {
     "elapsed": 984,
     "status": "ok",
     "timestamp": 1611291048667,
     "user": {
      "displayName": "ARBISH AKRAM",
      "photoUrl": "https://lh3.googleusercontent.com/a-/AOh14GibOMqRHuDtNm_9Xp51XmNXlffO1lnbt8KERz568Q=s64",
      "userId": "07144718352820072135"
     },
     "user_tz": -300
    },
    "id": "21eb6ME2Wpyo",
    "outputId": "6a5502ba-0c78-4227-e968-609a0d5a1671"
   },
   "outputs": [
    {
     "name": "stdout",
     "output_type": "stream",
     "text": [
      "{'obj2', 'obj4', 'obj3'}\n"
     ]
    }
   ],
   "source": [
    "my_set.add(\"obj4\")\n",
    "print(my_set)"
   ]
  },
  {
   "cell_type": "markdown",
   "metadata": {
    "id": "lOAyHJ7xXU3y"
   },
   "source": [
    "Access element of a set"
   ]
  },
  {
   "cell_type": "code",
   "execution_count": 54,
   "metadata": {
    "colab": {
     "base_uri": "https://localhost:8080/",
     "height": 167
    },
    "executionInfo": {
     "elapsed": 936,
     "status": "error",
     "timestamp": 1611291087145,
     "user": {
      "displayName": "ARBISH AKRAM",
      "photoUrl": "https://lh3.googleusercontent.com/a-/AOh14GibOMqRHuDtNm_9Xp51XmNXlffO1lnbt8KERz568Q=s64",
      "userId": "07144718352820072135"
     },
     "user_tz": -300
    },
    "id": "65CbgmFDCn9B",
    "outputId": "2c405499-8374-481e-bf53-6e1d13a90f46"
   },
   "outputs": [
    {
     "ename": "TypeError",
     "evalue": "'set' object is not subscriptable",
     "output_type": "error",
     "traceback": [
      "\u001b[1;31m---------------------------------------------------------------------------\u001b[0m",
      "\u001b[1;31mTypeError\u001b[0m                                 Traceback (most recent call last)",
      "\u001b[1;32m~\\AppData\\Local\\Temp/ipykernel_7372/1349405229.py\u001b[0m in \u001b[0;36m<module>\u001b[1;34m\u001b[0m\n\u001b[1;32m----> 1\u001b[1;33m \u001b[0mprint\u001b[0m\u001b[1;33m(\u001b[0m\u001b[0mmy_set\u001b[0m\u001b[1;33m[\u001b[0m\u001b[1;36m0\u001b[0m\u001b[1;33m]\u001b[0m\u001b[1;33m)\u001b[0m\u001b[1;33m\u001b[0m\u001b[1;33m\u001b[0m\u001b[0m\n\u001b[0m",
      "\u001b[1;31mTypeError\u001b[0m: 'set' object is not subscriptable"
     ]
    }
   ],
   "source": [
    "print(my_set[0])"
   ]
  },
  {
   "cell_type": "code",
   "execution_count": 55,
   "metadata": {},
   "outputs": [
    {
     "name": "stdout",
     "output_type": "stream",
     "text": [
      "obj2\n"
     ]
    }
   ],
   "source": [
    "print(list(my_set)[0])"
   ]
  },
  {
   "cell_type": "markdown",
   "metadata": {
    "id": "FnQWHHfhXB-_"
   },
   "source": [
    "Iterate through a set"
   ]
  },
  {
   "cell_type": "code",
   "execution_count": 56,
   "metadata": {
    "colab": {
     "base_uri": "https://localhost:8080/"
    },
    "executionInfo": {
     "elapsed": 919,
     "status": "ok",
     "timestamp": 1611291129978,
     "user": {
      "displayName": "ARBISH AKRAM",
      "photoUrl": "https://lh3.googleusercontent.com/a-/AOh14GibOMqRHuDtNm_9Xp51XmNXlffO1lnbt8KERz568Q=s64",
      "userId": "07144718352820072135"
     },
     "user_tz": -300
    },
    "id": "MZAdkv5eXBa0",
    "outputId": "ce31fd1d-fd2d-49fc-c8b5-6062ea06d616"
   },
   "outputs": [
    {
     "name": "stdout",
     "output_type": "stream",
     "text": [
      "obj2\n",
      "obj4\n",
      "obj3\n"
     ]
    }
   ],
   "source": [
    "for i in my_set:\n",
    "  print(i)"
   ]
  },
  {
   "cell_type": "code",
   "execution_count": null,
   "metadata": {},
   "outputs": [],
   "source": []
  }
 ],
 "metadata": {
  "colab": {
   "authorship_tag": "ABX9TyMIRLfFq1scYfQGzwXpCnYE",
   "collapsed_sections": [],
   "name": "2 lists_tuple_sets_dictionary.ipynb",
   "provenance": []
  },
  "kernelspec": {
   "display_name": "Python 3 (ipykernel)",
   "language": "python",
   "name": "python3"
  },
  "language_info": {
   "codemirror_mode": {
    "name": "ipython",
    "version": 3
   },
   "file_extension": ".py",
   "mimetype": "text/x-python",
   "name": "python",
   "nbconvert_exporter": "python",
   "pygments_lexer": "ipython3",
   "version": "3.9.7"
  }
 },
 "nbformat": 4,
 "nbformat_minor": 1
}
